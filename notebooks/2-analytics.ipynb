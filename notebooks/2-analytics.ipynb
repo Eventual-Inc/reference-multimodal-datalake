{
 "cells": [
  {
   "cell_type": "markdown",
   "metadata": {},
   "source": [
    "# Analytics\n",
    "\n",
    "Like all responsible data practitioners, we should always remember to do analytics on our data.\n",
    "\n",
    "This step helps you understand the composition of your dataset (e.g. what if you suddenly realize that your dataset was heavily skewed to a given domain like `stackoverflow.com`?)\n",
    "\n",
    "The good news is that since our dataset has been nicely ingested into our data lake with URLs pointing to the images, we can simply use Daft to query and analyze the data without even needing to work with the actual images. This makes data analysis much lighter-weight, since we only work with analytics/metadata such as numbers and smaller strings."
   ]
  },
  {
   "cell_type": "code",
   "execution_count": null,
   "metadata": {},
   "outputs": [],
   "source": [
    "# TODO:\n",
    "# 1. Run analytics on number of images -- group by domain name and count\n",
    "# 2. Run analytics on missing images -- group by domain name and count\n",
    "# 3. Run analytics on the resolution of images in the dataset\n",
    "# 4. Run analytics on the aspect ratio of images in the dataset\n",
    "# 5. Run analytics on the (original) mode of the dataset"
   ]
  },
  {
   "cell_type": "code",
   "execution_count": null,
   "metadata": {},
   "outputs": [],
   "source": []
  }
 ],
 "metadata": {
  "language_info": {
   "name": "python"
  }
 },
 "nbformat": 4,
 "nbformat_minor": 2
}
